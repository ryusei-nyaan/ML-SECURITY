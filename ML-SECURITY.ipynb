{
 "cells": [
  {
   "cell_type": "code",
   "execution_count": null,
   "id": "7b4b164a-07e2-48e2-ad4d-05faeea188d2",
   "metadata": {},
   "outputs": [],
   "source": [
    "using CSV\n",
    "using DataFrames\n",
    "using Statistics"
   ]
  },
  {
   "cell_type": "code",
   "execution_count": null,
   "id": "f1e12d0f-0962-4a59-8663-aaf92c17e70f",
   "metadata": {},
   "outputs": [],
   "source": [
    "#データ取得\n",
    "#cm = @cmd \"curl -OL https://github.com/oreilly-japan/ml-security-jp/raw/master/ch02/dataset.csv\"\n",
    "#run(cm)"
   ]
  },
  {
   "cell_type": "code",
   "execution_count": null,
   "id": "3b014748-a738-4d0f-8f29-cd88842e0537",
   "metadata": {},
   "outputs": [],
   "source": [
    "data = CSV.read(\"dataset.csv\",DataFrame)"
   ]
  },
  {
   "cell_type": "code",
   "execution_count": null,
   "id": "961ca0ea-8fc3-4dc1-a647-7df237f5f2a0",
   "metadata": {},
   "outputs": [],
   "source": [
    "x = data[:,1:end-1]\n",
    "y = data[:,end]"
   ]
  },
  {
   "cell_type": "code",
   "execution_count": null,
   "id": "25432f10-067d-40f8-928f-8e05b0e7a7b9",
   "metadata": {},
   "outputs": [],
   "source": [
    "using Random\n",
    "# 全母数\n",
    "N = length(y)\n",
    "\n",
    "#ランダムに8:2に分割\n",
    "θ = Int(floor(N*0.8))\n",
    "Shuffle_Index = shuffle(1:N)\n",
    "n1 = Shuffle_Index[1:θ]\n",
    "n2 = Shuffle_Index[θ+1:end]\n",
    "\n"
   ]
  },
  {
   "cell_type": "code",
   "execution_count": null,
   "id": "7bb8e2e7-a0fa-4dec-8a3b-e6fa52602cd1",
   "metadata": {},
   "outputs": [],
   "source": [
    "x_train = Array(x[n1,:])\n",
    "y_train = Array(y[n1])\n",
    "x_test = Array(x[n2,:])\n",
    "y_test = Array(y[n2])"
   ]
  },
  {
   "cell_type": "code",
   "execution_count": null,
   "id": "22cbf7b8-dcc4-4f17-af71-195039d6d4b2",
   "metadata": {},
   "outputs": [],
   "source": [
    "using ScikitLearn"
   ]
  },
  {
   "cell_type": "code",
   "execution_count": null,
   "id": "2eb835b6-a1cb-43be-af6a-276d1dbac633",
   "metadata": {},
   "outputs": [],
   "source": [
    "@sk_import linear_model: LogisticRegression\n",
    "classifier = LogisticRegression(solver=\"lbfgs\")"
   ]
  },
  {
   "cell_type": "code",
   "execution_count": null,
   "id": "4525cda4-53bb-446b-84d5-6aa4ef5cd743",
   "metadata": {},
   "outputs": [],
   "source": [
    "classifier.fit(x_train,y_train)"
   ]
  },
  {
   "cell_type": "code",
   "execution_count": null,
   "id": "3b8d0cc1-a24e-4ff8-9c2a-f26552e43644",
   "metadata": {},
   "outputs": [],
   "source": [
    "ŷ = classifier.predict(x_test)"
   ]
  },
  {
   "cell_type": "code",
   "execution_count": null,
   "id": "7cd79060-b010-4282-b237-c4176085c9d4",
   "metadata": {},
   "outputs": [],
   "source": [
    "accuracy = 100 * count(y_test.==ŷ)/length(y_test)"
   ]
  },
  {
   "cell_type": "code",
   "execution_count": null,
   "id": "bfe90cc3-ae17-49f0-826a-a102adad3863",
   "metadata": {},
   "outputs": [],
   "source": [
    "score = CrossValidation.cross_val_score(classifier,x_train,y_train,cv=5)\n",
    "μ = mean(score)\n",
    "print(\"score is $μ\")"
   ]
  },
  {
   "cell_type": "code",
   "execution_count": null,
   "id": "9aab64ec-9d1e-4f3d-ba81-f88eafb2aa50",
   "metadata": {},
   "outputs": [],
   "source": [
    "using DecisionTree\n",
    "model = DecisionTree.DecisionTreeClassifier()"
   ]
  },
  {
   "cell_type": "code",
   "execution_count": null,
   "id": "a9a6810d-77cb-4b27-a6ce-c2f2e97f95e9",
   "metadata": {},
   "outputs": [],
   "source": [
    "fit!(model,x_train,y_train)"
   ]
  },
  {
   "cell_type": "code",
   "execution_count": null,
   "id": "a2af73c0-22f9-4eda-81c0-ddde38e9e375",
   "metadata": {},
   "outputs": [],
   "source": [
    "ŷ₁ = predict(model,x_test)\n",
    "accuracy = 100 * count(y_test.==ŷ₁)/length(y_test)"
   ]
  },
  {
   "cell_type": "code",
   "execution_count": null,
   "id": "d8cd002d-53dc-44d0-9089-c4f564f88fc2",
   "metadata": {},
   "outputs": [],
   "source": [
    "score = CrossValidation.cross_val_score(model,x_train,y_train,cv=5)\n",
    "ȳ = mean(score)\n",
    "print(\"score is $ȳ\")"
   ]
  },
  {
   "cell_type": "code",
   "execution_count": null,
   "id": "a8142357-0686-49e8-bf87-fa0be1a0b0be",
   "metadata": {},
   "outputs": [],
   "source": []
  },
  {
   "cell_type": "code",
   "execution_count": null,
   "id": "97c4a612-9383-4cc4-a41f-95a8eb6080fd",
   "metadata": {},
   "outputs": [],
   "source": []
  },
  {
   "cell_type": "code",
   "execution_count": null,
   "id": "8e80f873-16a5-4c35-8276-7358ebdb6779",
   "metadata": {},
   "outputs": [],
   "source": []
  }
 ],
 "metadata": {
  "kernelspec": {
   "display_name": "Julia 1.8.1",
   "language": "julia",
   "name": "julia-1.8"
  },
  "language_info": {
   "file_extension": ".jl",
   "mimetype": "application/julia",
   "name": "julia",
   "version": "1.8.1"
  }
 },
 "nbformat": 4,
 "nbformat_minor": 5
}
